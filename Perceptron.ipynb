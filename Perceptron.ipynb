{
  "nbformat": 4,
  "nbformat_minor": 0,
  "metadata": {
    "colab": {
      "name": "Perceptron.ipynb",
      "provenance": []
    },
    "kernelspec": {
      "name": "python3",
      "display_name": "Python 3"
    },
    "language_info": {
      "name": "python"
    }
  },
  "cells": [
    {
      "cell_type": "code",
      "source": [
        "import numpy as np"
      ],
      "metadata": {
        "id": "ME7AR3nQF1Qd"
      },
      "execution_count": 31,
      "outputs": []
    },
    {
      "cell_type": "code",
      "source": [
        "class Perceptron(object):\n",
        "    \n",
        "# initialization code\n",
        "    def __init__(self, input_size, lr=1, epochs=100):\n",
        "        self.W = np.zeros(input_size+1)\n",
        "        # add one for bias\n",
        "        self.epochs = epochs\n",
        "        self.lr = lr\n",
        "        self.loss_lst = []\n",
        "    \n",
        "# Activation function code which is a simple step function\n",
        "    def activation_fn(self, x):\n",
        "        #return (x >= 0).astype(np.float32)\n",
        "        return 1 if x >= 0 else 0\n",
        "\n",
        "# Calculating dot product of W and X (input vector) and applying step function\n",
        "    def predict(self, x):\n",
        "        z = self.W.T.dot(x)\n",
        "        a = self.activation_fn(z)\n",
        "        return a\n",
        " \n",
        "# Perceptron Learning code running all the samples for given epochs or iterations\n",
        "    def fit(self, X, d):\n",
        "        for _ in range(self.epochs):\n",
        "            for i in range(d.shape[0]):\n",
        "                x = np.insert(X[i], 0, 1)\n",
        "                y = self.predict(x)\n",
        "                e = d[i] - y\n",
        "                self.W = self.W + self.lr * e * x\n",
        "            self.loss_lst.append(e)                       "
      ],
      "metadata": {
        "id": "gTInfInsGrIw"
      },
      "execution_count": 32,
      "outputs": []
    },
    {
      "cell_type": "markdown",
      "source": [
        "## for AND gate"
      ],
      "metadata": {
        "id": "IHlZSHDRSyhS"
      }
    },
    {
      "cell_type": "markdown",
      "source": [
        ""
      ],
      "metadata": {
        "id": "5FUPeA1YSwuP"
      }
    },
    {
      "cell_type": "code",
      "execution_count": 33,
      "metadata": {
        "colab": {
          "base_uri": "https://localhost:8080/"
        },
        "id": "zzWl0jv_Ffb_",
        "outputId": "ce2d75c7-1c92-4264-edde-96dc04d8a8fb"
      },
      "outputs": [
        {
          "output_type": "stream",
          "name": "stdout",
          "text": [
            "[-3.  2.  1.]\n"
          ]
        }
      ],
      "source": [
        "if __name__ =='__main__' :\n",
        "  X = np.array([[0,0],[0,1],[1,0],[1,1]])\n",
        "  d = np.array([0,0,0,1]) #for and\n",
        "  perceptron = Perceptron(input_size = 2)\n",
        "  perceptron.fit(X,d)\n",
        "  print(perceptron.W)"
      ]
    },
    {
      "cell_type": "code",
      "source": [
        "x=[1, 0, 1]\n",
        "y= -3*1+2*0+1*1\n",
        "y"
      ],
      "metadata": {
        "colab": {
          "base_uri": "https://localhost:8080/"
        },
        "id": "IviAINFQSfhn",
        "outputId": "4ca1b9ef-99cc-485f-e187-6a341326251a"
      },
      "execution_count": 34,
      "outputs": [
        {
          "output_type": "execute_result",
          "data": {
            "text/plain": [
              "-2"
            ]
          },
          "metadata": {},
          "execution_count": 34
        }
      ]
    },
    {
      "cell_type": "code",
      "source": [
        "# import matplotlib.pyplot as plt\n",
        "# x_axis = [int(x) for x in range(100)]\n",
        "# y_axis = perceptron.loss_lst\n",
        "# plt.plot(x_axis, y_axis)\n",
        "# plt.xlabel(\"iteration\")\n",
        "# plt.ylabel(\"loss\")\n",
        "# plt.show()"
      ],
      "metadata": {
        "id": "5Pp06u9UTmLL"
      },
      "execution_count": 35,
      "outputs": []
    },
    {
      "cell_type": "markdown",
      "source": [
        "for OR gate"
      ],
      "metadata": {
        "id": "MMam5_rHTKen"
      }
    },
    {
      "cell_type": "code",
      "source": [
        "if __name__ =='__main__' :\n",
        "  X = np.array([[0,0],[0,1],[1,0],[1,1]])\n",
        "  d = np.array([0,1,1,1])\n",
        "  perceptron = Perceptron(input_size = 2)\n",
        "  perceptron.fit(X,d)\n",
        "  print(perceptron.W)"
      ],
      "metadata": {
        "colab": {
          "base_uri": "https://localhost:8080/"
        },
        "id": "Qi4bkAtDS6n9",
        "outputId": "77b89b9b-00e0-429b-af45-c9824e61af57"
      },
      "execution_count": 40,
      "outputs": [
        {
          "output_type": "stream",
          "name": "stdout",
          "text": [
            "[-1.  1.  1.]\n"
          ]
        }
      ]
    },
    {
      "cell_type": "code",
      "source": [
        "x1=[1, 0, 1]\n",
        "y1= -3*-1+2*1+1*1\n",
        "y1"
      ],
      "metadata": {
        "colab": {
          "base_uri": "https://localhost:8080/"
        },
        "id": "PrRmPoSYTw4r",
        "outputId": "b8800c76-93ad-498f-9e89-5baa97722481"
      },
      "execution_count": 37,
      "outputs": [
        {
          "output_type": "execute_result",
          "data": {
            "text/plain": [
              "6"
            ]
          },
          "metadata": {},
          "execution_count": 37
        }
      ]
    },
    {
      "cell_type": "code",
      "source": [
        "# for XOR\n",
        "if __name__ =='__main__' :\n",
        "  X = np.array([[0,0],[0,1],[1,0],[1,1]])\n",
        "  d = np.array([0,1,1,0])\n",
        "  perceptron = Perceptron(input_size = 2)\n",
        "  perceptron.fit(X,d)\n",
        "  print(perceptron.W)\n"
      ],
      "metadata": {
        "colab": {
          "base_uri": "https://localhost:8080/"
        },
        "id": "BRZxr1_2UwDg",
        "outputId": "f1603975-d438-4350-f72f-ec0ff8b18277"
      },
      "execution_count": 38,
      "outputs": [
        {
          "output_type": "stream",
          "name": "stdout",
          "text": [
            "[ 0. -1.  0.]\n"
          ]
        }
      ]
    },
    {
      "cell_type": "code",
      "source": [
        "x2=[1, 0, 1]\n",
        "y2= -3*0+2*-1+1*0\n",
        "y2"
      ],
      "metadata": {
        "colab": {
          "base_uri": "https://localhost:8080/"
        },
        "id": "Sty9mWmhVaN-",
        "outputId": "1abf043c-3fac-4cef-d1e2-0fd6295903a2"
      },
      "execution_count": 39,
      "outputs": [
        {
          "output_type": "execute_result",
          "data": {
            "text/plain": [
              "-2"
            ]
          },
          "metadata": {},
          "execution_count": 39
        }
      ]
    }
  ]
}